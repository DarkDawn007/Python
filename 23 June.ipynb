{
 "cells": [
  {
   "cell_type": "code",
   "execution_count": 1,
   "id": "d7438050",
   "metadata": {},
   "outputs": [
    {
     "name": "stdout",
     "output_type": "stream",
     "text": [
      "6\n"
     ]
    }
   ],
   "source": [
    "nu1=2\n",
    "nu2=4\n",
    "print(nu1+nu2)"
   ]
  },
  {
   "cell_type": "code",
   "execution_count": 2,
   "id": "c57d2350",
   "metadata": {},
   "outputs": [
    {
     "name": "stdout",
     "output_type": "stream",
     "text": [
      "hello world\n"
     ]
    }
   ],
   "source": [
    "print(\"hello world\")"
   ]
  },
  {
   "cell_type": "code",
   "execution_count": 9,
   "id": "eb8a8215",
   "metadata": {},
   "outputs": [
    {
     "name": "stdout",
     "output_type": "stream",
     "text": [
      "x greater than y : True\n",
      "x lesser than y : False\n",
      "x greater than z : False\n",
      "x greater than or equal z : True\n",
      "x greater than or equal z : True\n",
      "x equal to z : True\n",
      "x not equal to z : False\n"
     ]
    }
   ],
   "source": [
    "x=90\n",
    "y=67\n",
    "z=90\n",
    "print(\"x greater than y :\", (x>y)) \n",
    "print(\"x lesser than y :\",(x<y))\n",
    "print(\"x greater than z :\", (x>z))\n",
    "print(\"x greater than or equal z :\", (x>=z))\n",
    "print(\"x greater than or equal z :\",(x<=z)) \n",
    "print(\"x equal to z :\", (x==z))\n",
    "print(\"x not equal to z :\", (x!=z))"
   ]
  },
  {
   "cell_type": "code",
   "execution_count": 13,
   "id": "2222b018",
   "metadata": {},
   "outputs": [
    {
     "name": "stdout",
     "output_type": "stream",
     "text": [
      "x 50\n",
      "x 100\n",
      "x 50\n",
      "x 2500\n",
      "x 50.0\n",
      "x 0.0\n"
     ]
    },
    {
     "data": {
      "text/plain": [
       "'\\nmulti line comment\\n\\nlol\\n\\nhehe\\n'"
      ]
     },
     "execution_count": 13,
     "metadata": {},
     "output_type": "execute_result"
    }
   ],
   "source": [
    "x = 50\n",
    "print(\"x\",x)\n",
    "\n",
    "x+=50 # x-x+50 \n",
    "print(\"x\",x);\n",
    "\n",
    "x-=50 # x-x-50 \n",
    "print(\"x\",x);\n",
    "\n",
    "x*=50;\n",
    "print(\"x\",x);\n",
    "\n",
    "x/=50; # x = x / 50\n",
    "print(\"x\",x);\n",
    "\n",
    "x%=50; # x-vXse \n",
    "print(\"x\",x);\n",
    "\n",
    "\n",
    "'''\n",
    "multi line comment\n",
    "\n",
    "lol\n",
    "\n",
    "hehe\n",
    "'''\n",
    "\n",
    "\n",
    "#single line comment"
   ]
  },
  {
   "cell_type": "code",
   "execution_count": 14,
   "id": "6b6b8744",
   "metadata": {},
   "outputs": [
    {
     "name": "stdout",
     "output_type": "stream",
     "text": [
      "hi\n"
     ]
    }
   ],
   "source": [
    "emp=\"hi\"\n",
    "print(emp)"
   ]
  },
  {
   "cell_type": "code",
   "execution_count": 16,
   "id": "d2c1a79c",
   "metadata": {},
   "outputs": [
    {
     "name": "stdout",
     "output_type": "stream",
     "text": [
      "0.9999999999999999\n"
     ]
    }
   ],
   "source": [
    "t=0.0\n",
    "for i in range(10):\n",
    "    t+=0.1\n",
    "print(t)"
   ]
  },
  {
   "cell_type": "code",
   "execution_count": 18,
   "id": "64818c15",
   "metadata": {},
   "outputs": [
    {
     "name": "stdout",
     "output_type": "stream",
     "text": [
      "result is True\n",
      "eligibility False\n"
     ]
    }
   ],
   "source": [
    "s=True\n",
    "print(\"result is\",s)\n",
    "b=False\n",
    "print(\"eligibility\",b)"
   ]
  },
  {
   "cell_type": "code",
   "execution_count": 19,
   "id": "da3ce9c8",
   "metadata": {},
   "outputs": [
    {
     "name": "stdout",
     "output_type": "stream",
     "text": [
      "p . madhu\n"
     ]
    }
   ],
   "source": [
    "ini='p'\n",
    "n=\"madhu\"\n",
    "print(ini,\".\",n)"
   ]
  },
  {
   "cell_type": "code",
   "execution_count": null,
   "id": "0ecb0ebb",
   "metadata": {},
   "outputs": [],
   "source": []
  }
 ],
 "metadata": {
  "kernelspec": {
   "display_name": "Python 3 (ipykernel)",
   "language": "python",
   "name": "python3"
  },
  "language_info": {
   "codemirror_mode": {
    "name": "ipython",
    "version": 3
   },
   "file_extension": ".py",
   "mimetype": "text/x-python",
   "name": "python",
   "nbconvert_exporter": "python",
   "pygments_lexer": "ipython3",
   "version": "3.9.12"
  }
 },
 "nbformat": 4,
 "nbformat_minor": 5
}
