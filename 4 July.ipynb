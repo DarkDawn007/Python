{
 "cells": [
  {
   "cell_type": "code",
   "execution_count": 1,
   "id": "be9d4ff4",
   "metadata": {},
   "outputs": [
    {
     "name": "stdout",
     "output_type": "stream",
     "text": [
      "(2, 3)\n"
     ]
    }
   ],
   "source": [
    "import numpy as np\n",
    "a=np.array([[1,2,3],[4,5,6]])\n",
    "print(a.shape)"
   ]
  },
  {
   "cell_type": "code",
   "execution_count": 3,
   "id": "d3c6336e",
   "metadata": {},
   "outputs": [
    {
     "name": "stdout",
     "output_type": "stream",
     "text": [
      "[[1 2]\n",
      " [3 4]\n",
      " [5 6]]\n"
     ]
    }
   ],
   "source": [
    "import numpy as np\n",
    "a=np.array([[1,2,3],[4,5,6]])\n",
    "a.shape=(3,2)\n",
    "print(a)"
   ]
  },
  {
   "cell_type": "code",
   "execution_count": 4,
   "id": "1d3da392",
   "metadata": {},
   "outputs": [
    {
     "name": "stdout",
     "output_type": "stream",
     "text": [
      "[[1 2 3]\n",
      " [4 5 6]]\n"
     ]
    }
   ],
   "source": [
    "import numpy as np\n",
    "a=np.array([[1,2,3],[4,5,6]])\n",
    "b=a.reshape(2,3)\n",
    "print(b)"
   ]
  },
  {
   "cell_type": "code",
   "execution_count": 6,
   "id": "4cdbabea",
   "metadata": {},
   "outputs": [
    {
     "name": "stdout",
     "output_type": "stream",
     "text": [
      "[ 0  1  2  3  4  5  6  7  8  9 10 11 12 13 14 15 16 17 18 19 20 21 22 23]\n",
      "[[[ 0  1  2]\n",
      "  [ 3  4  5]\n",
      "  [ 6  7  8]\n",
      "  [ 9 10 11]]\n",
      "\n",
      " [[12 13 14]\n",
      "  [15 16 17]\n",
      "  [18 19 20]\n",
      "  [21 22 23]]]\n"
     ]
    }
   ],
   "source": [
    "import numpy as np\n",
    "a=np.arange(24)\n",
    "print(a)\n",
    "a.ndim\n",
    "b=a.reshape(2,4,3)\n",
    "print(b)"
   ]
  },
  {
   "cell_type": "code",
   "execution_count": 7,
   "id": "c62a63a6",
   "metadata": {
    "scrolled": true
   },
   "outputs": [
    {
     "name": "stdout",
     "output_type": "stream",
     "text": [
      "[[(0, 0) (0, 0)]\n",
      " [(0, 0) (0, 0)]\n",
      " [(0, 0) (0, 0)]]\n"
     ]
    }
   ],
   "source": [
    "import numpy as np\n",
    "x=np.zeros((3,2),dtype=[('x','i4'),('y','i4')])\n",
    "print(x)"
   ]
  },
  {
   "cell_type": "code",
   "execution_count": 8,
   "id": "d6a08f9d",
   "metadata": {},
   "outputs": [
    {
     "name": "stdout",
     "output_type": "stream",
     "text": [
      "[0 0 0 0 0]\n"
     ]
    },
    {
     "name": "stderr",
     "output_type": "stream",
     "text": [
      "C:\\Users\\shashikiran.m\\AppData\\Local\\Temp\\ipykernel_1544\\2977770896.py:2: DeprecationWarning: `np.int` is a deprecated alias for the builtin `int`. To silence this warning, use `int` by itself. Doing this will not modify any behavior and is safe. When replacing `np.int`, you may wish to use e.g. `np.int64` or `np.int32` to specify the precision. If you wish to review your current use, check the release note link for additional information.\n",
      "Deprecated in NumPy 1.20; for more details and guidance: https://numpy.org/devdocs/release/1.20.0-notes.html#deprecations\n",
      "  x=np.zeros((5,),dtype=np.int)\n"
     ]
    }
   ],
   "source": [
    "import numpy as np\n",
    "x=np.zeros((5,),dtype=np.int)\n",
    "print(x)"
   ]
  },
  {
   "cell_type": "code",
   "execution_count": 9,
   "id": "bb095690",
   "metadata": {
    "scrolled": true
   },
   "outputs": [
    {
     "name": "stdout",
     "output_type": "stream",
     "text": [
      "[0. 0. 0. 0. 0.]\n"
     ]
    }
   ],
   "source": [
    "#zeros\n",
    "\n",
    "import numpy as np\n",
    "x=np.zeros(5)\n",
    "print(x)"
   ]
  },
  {
   "cell_type": "code",
   "execution_count": 10,
   "id": "e7f97c9c",
   "metadata": {},
   "outputs": [
    {
     "name": "stdout",
     "output_type": "stream",
     "text": [
      "[[1 2]\n",
      " [3 4]\n",
      " [5 6]]\n"
     ]
    }
   ],
   "source": [
    "#Array Routines\n",
    "\n",
    "import numpy as np\n",
    "\n",
    "x=np.empty([3,2],dtype=int)\n",
    "print(x)"
   ]
  },
  {
   "cell_type": "code",
   "execution_count": 11,
   "id": "fa3af5ab",
   "metadata": {},
   "outputs": [
    {
     "name": "stdout",
     "output_type": "stream",
     "text": [
      "[1. 1. 1. 1. 1.]\n"
     ]
    }
   ],
   "source": [
    "import numpy as np\n",
    "x=np.ones(5)\n",
    "print(x)"
   ]
  },
  {
   "cell_type": "code",
   "execution_count": 12,
   "id": "be17e198",
   "metadata": {},
   "outputs": [
    {
     "name": "stdout",
     "output_type": "stream",
     "text": [
      "[[1 1 1]\n",
      " [1 1 1]\n",
      " [1 1 1]]\n"
     ]
    }
   ],
   "source": [
    "import numpy as np\n",
    "x=np.ones([3,3],dtype=int)\n",
    "print(x)"
   ]
  },
  {
   "cell_type": "code",
   "execution_count": 13,
   "id": "ee0017e0",
   "metadata": {},
   "outputs": [
    {
     "name": "stdout",
     "output_type": "stream",
     "text": [
      "<class 'list'>\n",
      "[1 2 3 4]\n",
      "<class 'numpy.ndarray'>\n"
     ]
    }
   ],
   "source": [
    "#converting list into array\n",
    "import numpy as np\n",
    "x=[1,2,3,4]\n",
    "print(type(x))\n",
    "\n",
    "a=np.asarray(x);\n",
    "print(a)\n",
    "print(type(a))"
   ]
  },
  {
   "cell_type": "code",
   "execution_count": 14,
   "id": "1cda487a",
   "metadata": {},
   "outputs": [
    {
     "name": "stdout",
     "output_type": "stream",
     "text": [
      "<class 'tuple'>\n",
      "[1 2 3 4]\n",
      "<class 'numpy.ndarray'>\n"
     ]
    }
   ],
   "source": [
    "#converting tuple into array\n",
    "\n",
    "import numpy as np\n",
    "x=(1,2,3,4)\n",
    "print(type(x))\n",
    "\n",
    "a=np.asarray(x);\n",
    "print(a)\n",
    "print(type(a))"
   ]
  },
  {
   "cell_type": "code",
   "execution_count": 15,
   "id": "6fc3c734",
   "metadata": {},
   "outputs": [
    {
     "name": "stdout",
     "output_type": "stream",
     "text": [
      "<class 'tuple'>\n",
      "[list([1, 2, 3]) list([4, 5])]\n",
      "<class 'numpy.ndarray'>\n"
     ]
    },
    {
     "name": "stderr",
     "output_type": "stream",
     "text": [
      "C:\\Users\\shashikiran.m\\AppData\\Local\\Temp\\ipykernel_1544\\1588582252.py:7: VisibleDeprecationWarning: Creating an ndarray from ragged nested sequences (which is a list-or-tuple of lists-or-tuples-or ndarrays with different lengths or shapes) is deprecated. If you meant to do this, you must specify 'dtype=object' when creating the ndarray.\n",
      "  a=np.asarray(x);\n"
     ]
    }
   ],
   "source": [
    "#converting array from tuple of list\n",
    "\n",
    "import numpy as np\n",
    "x=([1,2,3],[4,5])# tuple inside list\n",
    "print(type(x))\n",
    "\n",
    "a=np.asarray(x);\n",
    "print(a)\n",
    "print(type(a))"
   ]
  },
  {
   "cell_type": "code",
   "execution_count": 16,
   "id": "ea51421e",
   "metadata": {},
   "outputs": [
    {
     "name": "stdout",
     "output_type": "stream",
     "text": [
      "[0 1 2 3 4]\n"
     ]
    }
   ],
   "source": [
    "#list of objects\n",
    "import numpy as np\n",
    "list=range(5)\n",
    "it=iter(list)\n",
    "\n",
    "x=np.fromiter(it,dtype=int)\n",
    "print(x)"
   ]
  },
  {
   "cell_type": "code",
   "execution_count": 18,
   "id": "de1fcd00",
   "metadata": {},
   "outputs": [
    {
     "name": "stdout",
     "output_type": "stream",
     "text": [
      "[10 12 14 16 18]\n"
     ]
    }
   ],
   "source": [
    "import numpy as np\n",
    "x=np.arange(10,20,2)\n",
    "print(x)\n",
    "\n"
   ]
  },
  {
   "cell_type": "code",
   "execution_count": 19,
   "id": "2df5dbc5",
   "metadata": {},
   "outputs": [
    {
     "name": "stdout",
     "output_type": "stream",
     "text": [
      "[2 3 4 5 6 7 8 9]\n"
     ]
    }
   ],
   "source": [
    "#slice demo\n",
    "import numpy as np\n",
    "a=np.arange(10)\n",
    "print(a[2:])"
   ]
  },
  {
   "cell_type": "code",
   "execution_count": 20,
   "id": "2af9367c",
   "metadata": {},
   "outputs": [
    {
     "name": "stdout",
     "output_type": "stream",
     "text": [
      "[2 4 6]\n"
     ]
    }
   ],
   "source": [
    "import numpy as np\n",
    "a=np.arange(10)\n",
    "s=slice(2,7,2)\n",
    "print(a[s])"
   ]
  },
  {
   "cell_type": "code",
   "execution_count": 25,
   "id": "4cd0b8c7",
   "metadata": {},
   "outputs": [
    {
     "name": "stdout",
     "output_type": "stream",
     "text": [
      "[[1 2 3]\n",
      " [4 5 6]\n",
      " [7 8 9]]\n",
      "now will slice array from the index a[1:]\n",
      "[[4 5 6]\n",
      " [7 8 9]]\n",
      "\n",
      "\n",
      "From 2nd coloum\n",
      "[2 5 8]\n",
      "From 3rd Coloumn\n",
      "[3 6 9]\n",
      "From 2nd row\n",
      "[4 5 6]\n",
      "From 3rd row\n",
      "[7 8 9]\n"
     ]
    }
   ],
   "source": [
    "import numpy as np\n",
    "a=np.array([[1,2,3],[4,5,6],[7,8,9]])\n",
    "print(a)\n",
    "\n",
    "#slice items starting from index1\n",
    "\n",
    "print(\"now will slice array from the index a[1:]\")\n",
    "print(a[1:])\n",
    "\n",
    "print(\"\\n\")\n",
    "\n",
    "print(\"From 2nd coloum\")\n",
    "print(a[...,1])\n",
    "\n",
    "print(\"From 3rd Coloumn\")\n",
    "print(a[...,2])\n",
    "\n",
    "\n",
    "print(\"From 2nd row\")\n",
    "print(a[1,...])\n",
    "\n",
    "print(\"From 3rd row\")\n",
    "print(a[2,...])\n",
    "\n",
    "\n",
    "\n"
   ]
  },
  {
   "cell_type": "code",
   "execution_count": 26,
   "id": "952092ad",
   "metadata": {},
   "outputs": [
    {
     "name": "stdout",
     "output_type": "stream",
     "text": [
      "orginal array\n",
      "[[ 0  5 10 15]\n",
      " [20 25 30 35]\n",
      " [40 45 50 55]]\n",
      "modified array\n",
      "0\n",
      "5\n",
      "10\n",
      "15\n",
      "20\n",
      "25\n",
      "30\n",
      "35\n",
      "40\n",
      "45\n",
      "50\n",
      "55\n"
     ]
    }
   ],
   "source": [
    "#array iteration\n",
    "\n",
    "import numpy as np\n",
    "a=np.arange(0,60,5)\n",
    "a=a.reshape(3,4)\n",
    "print(\"orginal array\")\n",
    "print(a)\n",
    "\n",
    "print(\"modified array\")\n",
    "for x in np.nditer(a):\n",
    "    print(x)"
   ]
  },
  {
   "cell_type": "code",
   "execution_count": 28,
   "id": "3c8915f9",
   "metadata": {
    "scrolled": true
   },
   "outputs": [
    {
     "name": "stdout",
     "output_type": "stream",
     "text": [
      "orginal array\n",
      "[[ 0  5 10 15]\n",
      " [20 25 30 35]\n",
      " [40 45 50 55]]\n",
      "\n",
      "\n",
      "modified array\n",
      "[ 0 20 40]\n",
      "[ 5 25 45]\n",
      "[10 30 50]\n",
      "[15 35 55]\n"
     ]
    }
   ],
   "source": [
    "import numpy as np\n",
    "a=np.arange(0,60,5)\n",
    "a=a.reshape(3,4)\n",
    "print(\"orginal array\")\n",
    "print(a)\n",
    "print(\"\\n\")\n",
    "\n",
    "print('modified array')\n",
    "for x in np.nditer(a,flags=['external_loop'],order='F'):\n",
    "    print(x)\n",
    "\n"
   ]
  },
  {
   "cell_type": "code",
   "execution_count": 29,
   "id": "89551d58",
   "metadata": {},
   "outputs": [
    {
     "name": "stdout",
     "output_type": "stream",
     "text": [
      "orginal array\n",
      "[[ 0  5 10 15]\n",
      " [20 25 30 35]\n",
      " [40 45 50 55]]\n",
      "\n",
      "\n",
      "modified array\n",
      "[[  0  10  20  30]\n",
      " [ 40  50  60  70]\n",
      " [ 80  90 100 110]]\n"
     ]
    }
   ],
   "source": [
    "import numpy as np\n",
    "a=np.arange(0,60,5)\n",
    "a=a.reshape(3,4)\n",
    "print(\"orginal array\")\n",
    "print(a)\n",
    "print(\"\\n\")\n",
    "\n",
    "for x in np.nditer(a,op_flags=['readwrite']):\n",
    "    x[...]=2*x\n",
    "print('modified array')\n",
    "print(a)"
   ]
  },
  {
   "cell_type": "code",
   "execution_count": 30,
   "id": "f417a578",
   "metadata": {},
   "outputs": [
    {
     "name": "stdout",
     "output_type": "stream",
     "text": [
      "string concatenation\n",
      "['helloxyz']\n",
      "\n",
      "\n",
      "concatenation\n",
      "['helloabc' 'worldxyz']\n"
     ]
    }
   ],
   "source": [
    "#string function\n",
    "\n",
    "import numpy as np\n",
    "print(\"string concatenation\")\n",
    "print(np.char.add(['hello'],['xyz']))\n",
    "print(\"\\n\")\n",
    "\n",
    "print(\"concatenation\")\n",
    "print(np.char.add(['hello','world'],['abc','xyz']))"
   ]
  },
  {
   "cell_type": "code",
   "execution_count": 32,
   "id": "49599c58",
   "metadata": {},
   "outputs": [
    {
     "name": "stdout",
     "output_type": "stream",
     "text": [
      "sign of differeny angles\n",
      "[0.         0.5        0.70710678 0.8660254  1.        ]\n",
      "\n",
      "\n",
      "cosine values for angles in array\n",
      "[ 1.000000e+00  5.000000e-01  6.123234e-17 -5.000000e-01 -1.000000e+00]\n",
      "Tangent values for angles in array\n",
      "[0.00000000e+00 5.77350269e-01 1.00000000e+00 1.73205081e+00\n",
      " 1.63312394e+16]\n"
     ]
    }
   ],
   "source": [
    "\n",
    "#mathematical functions\n",
    "import numpy as np\n",
    "a=np.array([0,30,45,60,90])\n",
    "print(\"sign of differeny angles\")\n",
    "print(np.sin(a*np.pi/180))\n",
    "print(\"\\n\")\n",
    "print(\"cosine values for angles in array\")\n",
    "print(np.cos(a*np.pi/90))\n",
    "print(\"Tangent values for angles in array\")\n",
    "print(np.tan(a*np.pi/180))\n",
    "\n",
    "\n",
    "\n"
   ]
  },
  {
   "cell_type": "code",
   "execution_count": 33,
   "id": "c79649ec",
   "metadata": {},
   "outputs": [
    {
     "name": "stdout",
     "output_type": "stream",
     "text": [
      "orginal array\n",
      "[  1.   5.  55. 123.   0. 567.  25. 532.]\n",
      "[  1.   5.  55. 123.   0. 567.  25. 532.]\n",
      "[  0.   0.  60. 120.   0. 570.  20. 530.]\n"
     ]
    }
   ],
   "source": [
    "\n",
    "#round function\n",
    "import numpy as np\n",
    "a=np.array([1.0,5,55,123,0,567,25,532])\n",
    "print(\"orginal array\")\n",
    "print(np.round(a))\n",
    "print(np.round(a,decimals=1))\n",
    "print(np.round(a,decimals=-1))"
   ]
  },
  {
   "cell_type": "code",
   "execution_count": 34,
   "id": "926e2f74",
   "metadata": {},
   "outputs": [
    {
     "name": "stdout",
     "output_type": "stream",
     "text": [
      "orginal array\n",
      "[-2.  1. -1.  0. 10.]\n"
     ]
    }
   ],
   "source": [
    "#floor function\n",
    "\n",
    "import numpy as np\n",
    "a=np.array([-1.7,1.5,-0.2,0.6,10])\n",
    "print(\"orginal array\")\n",
    "print(np.floor(a))"
   ]
  },
  {
   "cell_type": "code",
   "execution_count": 35,
   "id": "7fe27d02",
   "metadata": {},
   "outputs": [
    {
     "name": "stdout",
     "output_type": "stream",
     "text": [
      "orginal array\n",
      "[-1.  2. -0.  1. 10.]\n"
     ]
    }
   ],
   "source": [
    "# ceil function\n",
    "\n",
    "import numpy as np\n",
    "a=np.array([-1.7,1.5,-0.2,0.6,10])\n",
    "print(\"orginal array\")\n",
    "print(np.ceil(a))"
   ]
  },
  {
   "cell_type": "code",
   "execution_count": 36,
   "id": "fc578c63",
   "metadata": {},
   "outputs": [
    {
     "name": "stdout",
     "output_type": "stream",
     "text": [
      "0.25\n",
      "we cannot divide by zero\n"
     ]
    }
   ],
   "source": [
    "def fun1(num1):\n",
    "    try:\n",
    "        reci=1/num1;\n",
    "\n",
    "    except ZeroDivisionError:\n",
    "        print(\"we cannot divide by zero\")\n",
    "\n",
    "    else:\n",
    "        print(reci)\n",
    "\n",
    "fun1(4)\n",
    "\n",
    "fun1(0)"
   ]
  },
  {
   "cell_type": "code",
   "execution_count": 37,
   "id": "bd9e7f0f",
   "metadata": {},
   "outputs": [
    {
     "name": "stdout",
     "output_type": "stream",
     "text": [
      "hi\n",
      "hello\n",
      "we cannot divide by zero\n",
      "3.0\n",
      "welcome\n"
     ]
    }
   ],
   "source": [
    "try:\n",
    "    print(\"hi\")\n",
    "    print(\"hello\")\n",
    "    print(9/0);\n",
    "\n",
    "except ZeroDivisionError:\n",
    "        print(\"we cannot divide by zero\")\n",
    "\n",
    "print(9/3)\n",
    "print(\"welcome\")"
   ]
  },
  {
   "cell_type": "code",
   "execution_count": 41,
   "id": "eb82cf03",
   "metadata": {},
   "outputs": [
    {
     "name": "stdout",
     "output_type": "stream",
     "text": [
      "100\n",
      "something went wrong\n"
     ]
    }
   ],
   "source": [
    "y=100\n",
    "try:\n",
    "    print(y)\n",
    "except NameError:\n",
    "    print(\"variable y is not defined\")\n",
    "else:\n",
    "    print(\"something went wrong\")"
   ]
  },
  {
   "cell_type": "code",
   "execution_count": null,
   "id": "af70d0c2",
   "metadata": {},
   "outputs": [],
   "source": []
  }
 ],
 "metadata": {
  "kernelspec": {
   "display_name": "Python 3 (ipykernel)",
   "language": "python",
   "name": "python3"
  },
  "language_info": {
   "codemirror_mode": {
    "name": "ipython",
    "version": 3
   },
   "file_extension": ".py",
   "mimetype": "text/x-python",
   "name": "python",
   "nbconvert_exporter": "python",
   "pygments_lexer": "ipython3",
   "version": "3.9.12"
  }
 },
 "nbformat": 4,
 "nbformat_minor": 5
}
