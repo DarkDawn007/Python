{
 "cells": [
  {
   "cell_type": "code",
   "execution_count": 4,
   "id": "81724640",
   "metadata": {},
   "outputs": [
    {
     "name": "stdout",
     "output_type": "stream",
     "text": [
      "List with Data [101, 'Dharma', 'Delivery', 35000]\n",
      "['Vijay', 'Delivery']\n",
      "Empty List []\n",
      "using list() [1001, 1002, 1003, 1004, 1005]\n",
      "[55, 66, 77, 88, 99, 23, 65, 76]\n",
      "[70, 81, 92, 103, 114, 38, 80, 91]\n",
      "[81, 103, 91]\n",
      "[70, 92, 114, 38, 80]\n"
     ]
    }
   ],
   "source": [
    "emp=[101,\"Dharma\",\"Delivery\",35000]\n",
    "print(\"List with Data\",emp)\n",
    "\n",
    "emp[1]=\"Vijay\"\n",
    "print(emp[1:3])\n",
    "\n",
    "countries=[]\n",
    "print(\"Empty List\",countries)\n",
    "\n",
    "reg=list((1001,1002,1003,1004,1005))\n",
    "print(\"using list()\",reg)\n",
    "\n",
    "marks=[55,66,77,88,99,23,65,76]\n",
    "print(marks)\n",
    "\n",
    "umarks=[m+15 for m in marks]\n",
    "print(umarks)\n",
    "\n",
    "umarks=[m+15 for m in marks if m%2==0]\n",
    "print(umarks)\n",
    "\n",
    "umarks=[m+15 for m in marks if m%2!=0]\n",
    "print(umarks)"
   ]
  },
  {
   "cell_type": "code",
   "execution_count": 6,
   "id": "cf028b45",
   "metadata": {},
   "outputs": [
    {
     "name": "stdout",
     "output_type": "stream",
     "text": [
      "<class 'list'>\n",
      "kiwi\n",
      "['banana', 'mango', 'kiwi']\n",
      "['banana', 'mango', 'kiwi', 'pomegranate', 'muskmelon']\n"
     ]
    }
   ],
   "source": [
    "fruits=[\"apple\",\"banana\",\"mango\",\"kiwi\",\"pomegranate\",\"muskmelon\"]\n",
    "print(type(fruits))\n",
    "print(fruits[3])\n",
    "print(fruits[1:4])\n",
    "print(fruits[1:])"
   ]
  },
  {
   "cell_type": "code",
   "execution_count": 9,
   "id": "222f1b71",
   "metadata": {},
   "outputs": [
    {
     "name": "stdout",
     "output_type": "stream",
     "text": [
      "[55, 100, 200, 88, 99, 23, 65, 76]\n",
      "***********************\n",
      "['apple', 'banana', 'mango', 'kiwi', 'pomegranate', 'muskmelon']\n",
      "['apple', 'mango', 'kiwi', 'pomegranate', 'muskmelon']\n",
      "['apple', 'muskmelon']\n",
      "[]\n"
     ]
    }
   ],
   "source": [
    "marks=[55,66,77,88,99,23,65,76]\n",
    "marks[1:3]=[100,200]\n",
    "print(marks)\n",
    "print(\"***********************\")\n",
    "fruits=[\"apple\",\"banana\",\"mango\",\"kiwi\",\"pomegranate\",\"muskmelon\"]\n",
    "print(fruits)\n",
    "del fruits[1]\n",
    "print(fruits)\n",
    "del fruits[1:4]\n",
    "print(fruits)\n",
    "del fruits[:]\n",
    "print(fruits)"
   ]
  },
  {
   "cell_type": "code",
   "execution_count": 13,
   "id": "4a13b851",
   "metadata": {},
   "outputs": [
    {
     "name": "stdout",
     "output_type": "stream",
     "text": [
      "['Development', 'testing', 'deployment', 'QA']\n",
      "['Development', 'testing', 'deployment', 'QA', 'Delivery']\n",
      "5\n",
      "['Development', 'testing', 'Admin', 'deployment', 'QA', 'Delivery']\n"
     ]
    }
   ],
   "source": [
    "dept=[\"Development\",\"testing\",\"deployment\",\"QA\"]\n",
    "print(dept)\n",
    "dept.append(\"Delivery\")\n",
    "print(dept)\n",
    "print(len(dept))\n",
    "dept.insert(2,\"Admin\")\n",
    "print(dept)"
   ]
  },
  {
   "cell_type": "code",
   "execution_count": 19,
   "id": "005a37d1",
   "metadata": {
    "scrolled": true
   },
   "outputs": [
    {
     "name": "stdout",
     "output_type": "stream",
     "text": [
      "[1, 2, 3, 4, 'alpha', 'beta', 'gama']\n",
      "['alpha', 'beta', 'gama']\n"
     ]
    }
   ],
   "source": [
    "data=[1,2,3,4]\n",
    "d=[\"alpha\",\"beta\",\"gama\"]\n",
    "data.extend(d)\n",
    "print(data)\n",
    "print(d)"
   ]
  },
  {
   "cell_type": "code",
   "execution_count": 26,
   "id": "1a7abe9f",
   "metadata": {},
   "outputs": [
    {
     "name": "stdout",
     "output_type": "stream",
     "text": [
      "before sorting [23, 54, 1, 44, 76, 95, 46, 764]\n",
      "after sorting [1, 23, 44, 46, 54, 76, 95, 764]\n",
      "after reverse sorting [764, 95, 76, 54, 46, 44, 23, 1]\n",
      "after removing [95, 76, 54, 46, 44, 23, 1]\n",
      "after poping [95, 76, 54, 46, 44, 23]\n",
      "after clearing []\n"
     ]
    }
   ],
   "source": [
    "mark=[23,54,1,44,76,95,46,764]\n",
    "print(\"before sorting\",mark)\n",
    "mark.sort()\n",
    "print(\"after sorting\",mark)\n",
    "mark.reverse()\n",
    "print(\"after reverse sorting\",mark)\n",
    "mark.remove(764)\n",
    "print(\"after removing\",mark)\n",
    "mark.pop()\n",
    "print(\"after poping\",mark)\n",
    "mark.clear()\n",
    "print(\"after clearing\",mark)\n",
    "\n"
   ]
  },
  {
   "cell_type": "code",
   "execution_count": 28,
   "id": "78620a3f",
   "metadata": {},
   "outputs": [
    {
     "name": "stdout",
     "output_type": "stream",
     "text": [
      "(101, 123, 234, 345, 456, 567)\n",
      "<class 'tuple'>\n",
      "234\n",
      "(234, 345, 456)\n"
     ]
    }
   ],
   "source": [
    "regno=101,123,234,345,456,567\n",
    "print(regno)\n",
    "print(type(regno))\n",
    "\n",
    "regno1=(101,123,234,345,456,567)\n",
    "print(regno1[2])\n",
    "print(regno1[2:5])"
   ]
  },
  {
   "cell_type": "code",
   "execution_count": 30,
   "id": "b55ad396",
   "metadata": {},
   "outputs": [
    {
     "name": "stdout",
     "output_type": "stream",
     "text": [
      "['radha', 'vijaya', 'manju']\n",
      "['radha', 'vijaya', 'rohit']\n",
      "('anu', 'lolo', 'polo', 'jolo')\n"
     ]
    },
    {
     "ename": "TypeError",
     "evalue": "'tuple' object does not support item assignment",
     "output_type": "error",
     "traceback": [
      "\u001b[1;31m---------------------------------------------------------------------------\u001b[0m",
      "\u001b[1;31mTypeError\u001b[0m                                 Traceback (most recent call last)",
      "Input \u001b[1;32mIn [30]\u001b[0m, in \u001b[0;36m<cell line: 12>\u001b[1;34m()\u001b[0m\n\u001b[0;32m     10\u001b[0m names\u001b[38;5;241m=\u001b[39m(\u001b[38;5;124m\"\u001b[39m\u001b[38;5;124manu\u001b[39m\u001b[38;5;124m\"\u001b[39m,\u001b[38;5;124m\"\u001b[39m\u001b[38;5;124mlolo\u001b[39m\u001b[38;5;124m\"\u001b[39m,\u001b[38;5;124m\"\u001b[39m\u001b[38;5;124mpolo\u001b[39m\u001b[38;5;124m\"\u001b[39m,\u001b[38;5;124m\"\u001b[39m\u001b[38;5;124mjolo\u001b[39m\u001b[38;5;124m\"\u001b[39m)\n\u001b[0;32m     11\u001b[0m \u001b[38;5;28mprint\u001b[39m(names)\n\u001b[1;32m---> 12\u001b[0m names[\u001b[38;5;241m1\u001b[39m]\u001b[38;5;241m=\u001b[39m\u001b[38;5;124m\"\u001b[39m\u001b[38;5;124mjojo\u001b[39m\u001b[38;5;124m\"\u001b[39m\n\u001b[0;32m     13\u001b[0m \u001b[38;5;28mprint\u001b[39m(names)\n",
      "\u001b[1;31mTypeError\u001b[0m: 'tuple' object does not support item assignment"
     ]
    }
   ],
   "source": [
    "#immutable\n",
    "\n",
    "name=[\"radha\",\"vijaya\",\"manju\"]\n",
    "print(name)\n",
    "\n",
    "name[2]=\"rohit\"\n",
    "print(name)\n",
    "\n",
    "\n",
    "names=(\"anu\",\"lolo\",\"polo\",\"jolo\")\n",
    "print(names)\n",
    "names[1]=\"jojo\"\n",
    "print(names)"
   ]
  },
  {
   "cell_type": "code",
   "execution_count": 33,
   "id": "5b6ab291",
   "metadata": {
    "scrolled": true
   },
   "outputs": [
    {
     "name": "stdout",
     "output_type": "stream",
     "text": [
      "<class 'str'>\n",
      "<class 'tuple'>\n",
      "<class 'tuple'>\n",
      "<class 'tuple'>\n",
      "('admin', 'development', 'purchase', 'sales')\n",
      "<class 'tuple'>\n"
     ]
    }
   ],
   "source": [
    "name=\"anu\"\n",
    "print(type(name))\n",
    "\n",
    "name=()\n",
    "print(type(name))\n",
    "\n",
    "namu=\"roja\",\n",
    "print(type(namu))\n",
    "\n",
    "nami=(1001,1002,1003)\n",
    "print(type(nami))\n",
    "\n",
    "namd=(\"admin\",\"development\",\"purchase\",\"sales\")\n",
    "print(namd)\n",
    "print(type(namd))\n",
    "\n"
   ]
  },
  {
   "cell_type": "code",
   "execution_count": 34,
   "id": "a11f67c7",
   "metadata": {},
   "outputs": [
    {
     "name": "stdout",
     "output_type": "stream",
     "text": [
      "{101, 102}\n",
      "<class 'set'>\n"
     ]
    }
   ],
   "source": [
    "id={101,102,101}\n",
    "print(id)\n",
    "print(type(id))"
   ]
  },
  {
   "cell_type": "code",
   "execution_count": 35,
   "id": "5417e86c",
   "metadata": {},
   "outputs": [
    {
     "name": "stdout",
     "output_type": "stream",
     "text": [
      "{105, 107, 101, 103}\n"
     ]
    }
   ],
   "source": [
    "da={101,102,103,104,105,101,107,108,106}\n",
    "ot={d for d in da if d %2!=0}\n",
    "print(ot)"
   ]
  },
  {
   "cell_type": "code",
   "execution_count": 38,
   "id": "625169bf",
   "metadata": {},
   "outputs": [
    {
     "name": "stdout",
     "output_type": "stream",
     "text": [
      "{1, 2, 3, 4, 5, 6, 7}\n",
      "{4}\n",
      "{1, 2, 3}\n",
      "{1, 2, 3, 5, 6, 7}\n"
     ]
    }
   ],
   "source": [
    "s1={1,2,3,4}\n",
    "s2={4,5,6,7}\n",
    "print(s1|s2)\n",
    "print(s1&s2)\n",
    "print(s1-s2)\n",
    "print(s1^s2)"
   ]
  },
  {
   "cell_type": "code",
   "execution_count": 50,
   "id": "585ff1c9",
   "metadata": {},
   "outputs": [
    {
     "name": "stdout",
     "output_type": "stream",
     "text": [
      "{'id': 10011, 'name': 'books', 'qty': 100, 'price': 12000}\n",
      "<class 'dict'>\n",
      "books\n",
      "10011\n",
      "100\n",
      "12000\n",
      "{'id': 909, 'name': 'books', 'qty': 100, 'price': 12000}\n",
      "True\n",
      "False\n",
      "dict_keys(['id', 'name', 'qty', 'price'])\n"
     ]
    }
   ],
   "source": [
    "pro={\"id\":10011,\"name\":\"books\",\"qty\":100,\"price\":12000}\n",
    "print(pro)\n",
    "print(type(pro))\n",
    "print(pro[\"name\"])\n",
    "print(pro[\"id\"])\n",
    "print(pro[\"qty\"])\n",
    "print(pro[\"price\"])\n",
    "pro[\"id\"]=909\n",
    "print(pro)\n",
    "print(\"id\" in pro)\n",
    "print(\"lol\"in pro)\n",
    "print(pro.keys())"
   ]
  },
  {
   "cell_type": "code",
   "execution_count": 48,
   "id": "04856ede",
   "metadata": {},
   "outputs": [
    {
     "name": "stdout",
     "output_type": "stream",
     "text": [
      "{1001: 'mary', 1002: 'jason', 1003: 'wiler'}\n"
     ]
    }
   ],
   "source": [
    "m=dict([(1001,\"mary\"),(1002,\"jason\"),(1003,\"wiler\")])\n",
    "print(m)"
   ]
  },
  {
   "cell_type": "code",
   "execution_count": 45,
   "id": "c8869879",
   "metadata": {},
   "outputs": [
    {
     "name": "stdout",
     "output_type": "stream",
     "text": [
      "{1: 1, 2: 4, 3: 9, 4: 16, 5: 25, 6: 36, 7: 49, 8: 64}\n",
      "<class 'dict'>\n"
     ]
    }
   ],
   "source": [
    "d={1,2,3,4,5,6,7,8}\n",
    "od={e:e**2 for e in d}\n",
    "print(od)\n",
    "print(type(od))"
   ]
  },
  {
   "cell_type": "code",
   "execution_count": null,
   "id": "e69f4d22",
   "metadata": {},
   "outputs": [],
   "source": []
  }
 ],
 "metadata": {
  "kernelspec": {
   "display_name": "Python 3 (ipykernel)",
   "language": "python",
   "name": "python3"
  },
  "language_info": {
   "codemirror_mode": {
    "name": "ipython",
    "version": 3
   },
   "file_extension": ".py",
   "mimetype": "text/x-python",
   "name": "python",
   "nbconvert_exporter": "python",
   "pygments_lexer": "ipython3",
   "version": "3.9.12"
  }
 },
 "nbformat": 4,
 "nbformat_minor": 5
}
