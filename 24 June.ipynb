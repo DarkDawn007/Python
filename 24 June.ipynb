{
 "cells": [
  {
   "cell_type": "code",
   "execution_count": 1,
   "id": "f13d6735",
   "metadata": {},
   "outputs": [
    {
     "name": "stdout",
     "output_type": "stream",
     "text": [
      "hello everyone\n",
      "hello everyone.....\n"
     ]
    }
   ],
   "source": [
    "st1=\"hello everyone\"\n",
    "st2=\"hello everyone.....\"\n",
    "print(st1)\n",
    "print(st2)"
   ]
  },
  {
   "cell_type": "code",
   "execution_count": 3,
   "id": "67a9e2ce",
   "metadata": {},
   "outputs": [
    {
     "name": "stdout",
     "output_type": "stream",
     "text": [
      "hello \"everyone\n",
      "hello 'everyone.....\n"
     ]
    }
   ],
   "source": [
    "st1=\"hello \\\"everyone\"\n",
    "st2=\"hello \\'everyone.....\"\n",
    "print(st1)\n",
    "print(st2)"
   ]
  },
  {
   "cell_type": "code",
   "execution_count": 9,
   "id": "ed201059",
   "metadata": {},
   "outputs": [
    {
     "name": "stdout",
     "output_type": "stream",
     "text": [
      "hello \teveryone\n",
      "hello \n",
      "everyone.....\n",
      "hello \\ everyone.....\n"
     ]
    }
   ],
   "source": [
    "st1=\"hello \\teveryone\"\n",
    "st2=\"hello \\neveryone.....\"\n",
    "st3=\"hello \\\\ everyone.....\"\n",
    "print(st1)\n",
    "print(st2)\n",
    "print(st3)"
   ]
  },
  {
   "cell_type": "code",
   "execution_count": 12,
   "id": "d671cea1",
   "metadata": {},
   "outputs": [
    {
     "name": "stdout",
     "output_type": "stream",
     "text": [
      "hello\\tworld\n",
      "hello\\nworld\n",
      "hello\\\\world\n"
     ]
    }
   ],
   "source": [
    "print(r\"hello\\tworld\")\n",
    "print(R\"hello\\nworld\")\n",
    "print(r\"hello\\\\world\")"
   ]
  },
  {
   "cell_type": "code",
   "execution_count": 16,
   "id": "9e8f5870",
   "metadata": {},
   "outputs": [
    {
     "name": "stdout",
     "output_type": "stream",
     "text": [
      "this is some text for multiple line demo\n",
      "this is some text for multiple line demo\n",
      "this is some text for multiple line demo\n",
      "this is some text for multiple line demo\n",
      "this is some text for multiple line demo\n",
      "\n",
      "this is some text for multiple line demo\n",
      "this is some text for multiple line demo\n",
      "this is some text for multiple line demo\n",
      "this is some text for multiple line demo\n",
      "this is some text for multiple line demo\n"
     ]
    }
   ],
   "source": [
    "str1='''this is some text for multiple line demo\n",
    "this is some text for multiple line demo\n",
    "this is some text for multiple line demo\n",
    "this is some text for multiple line demo\n",
    "this is some text for multiple line demo\\n'''\n",
    "print(str1)\n",
    "\n",
    "str2=\"\"\"this is some text for multiple line demo\n",
    "this is some text for multiple line demo\n",
    "this is some text for multiple line demo\n",
    "this is some text for multiple line demo\n",
    "this is some text for multiple line demo\"\"\"\n",
    "print(str2)"
   ]
  },
  {
   "cell_type": "code",
   "execution_count": 18,
   "id": "65d9b169",
   "metadata": {},
   "outputs": [
    {
     "name": "stdout",
     "output_type": "stream",
     "text": [
      "hello world\n"
     ]
    }
   ],
   "source": [
    "s1='hello'\n",
    "s2=' world'\n",
    "print(s1+s2)"
   ]
  },
  {
   "cell_type": "code",
   "execution_count": 19,
   "id": "ac45c107",
   "metadata": {},
   "outputs": [
    {
     "name": "stdout",
     "output_type": "stream",
     "text": [
      "**************************************************\n",
      "hello world\n",
      "**************************************************\n"
     ]
    }
   ],
   "source": [
    "s=\"*\"\n",
    "print(s*50)\n",
    "print(\"hello world\")\n",
    "print(s*50)"
   ]
  },
  {
   "cell_type": "code",
   "execution_count": 20,
   "id": "bb9897a6",
   "metadata": {},
   "outputs": [
    {
     "name": "stdout",
     "output_type": "stream",
     "text": [
      "5th Index n\n",
      "-5th Index t\n"
     ]
    }
   ],
   "source": [
    "tr=\"Python String\"\n",
    "\n",
    "print(\"5th Index\",tr[5])\n",
    "print(\"-5th Index\",tr[-5])"
   ]
  },
  {
   "cell_type": "code",
   "execution_count": 26,
   "id": "03539b08",
   "metadata": {},
   "outputs": [
    {
     "name": "stdout",
     "output_type": "stream",
     "text": [
      "ython\n",
      "python la\n",
      "nguag\n",
      "15\n"
     ]
    }
   ],
   "source": [
    "s1=\"python language\"\n",
    "print(s1[1:6])\n",
    "print(s1[0:9])\n",
    "print(s1[-6:-1])\n",
    "print(len(s1))\n"
   ]
  },
  {
   "cell_type": "code",
   "execution_count": 29,
   "id": "b59858a4",
   "metadata": {},
   "outputs": [
    {
     "name": "stdout",
     "output_type": "stream",
     "text": [
      "5566\n",
      "121\n"
     ]
    }
   ],
   "source": [
    "n1=\"55\"\n",
    "n2=\"66\"\n",
    "print(n1+n2)\n",
    "print(int(n1)+int(n2))\n"
   ]
  },
  {
   "cell_type": "code",
   "execution_count": 30,
   "id": "21cfacf8",
   "metadata": {},
   "outputs": [
    {
     "name": "stdout",
     "output_type": "stream",
     "text": [
      "121\n",
      "5566\n"
     ]
    }
   ],
   "source": [
    "n1=55\n",
    "n2=66\n",
    "print(n1+n2)\n",
    "print(str(n1)+str(n2))\n"
   ]
  },
  {
   "cell_type": "code",
   "execution_count": 33,
   "id": "01642e1a",
   "metadata": {},
   "outputs": [
    {
     "name": "stdout",
     "output_type": "stream",
     "text": [
      "121.0\n",
      "True\n",
      "False\n"
     ]
    }
   ],
   "source": [
    "n1=55\n",
    "n2=66\n",
    "n3=0\n",
    "print(float(n1+n2))\n",
    "\n",
    "print(bool(n1))\n",
    "print(bool(n3))"
   ]
  },
  {
   "cell_type": "code",
   "execution_count": 34,
   "id": "ceb22fb6",
   "metadata": {},
   "outputs": [
    {
     "name": "stdout",
     "output_type": "stream",
     "text": [
      "<class 'int'>\n",
      "<class 'str'>\n",
      "<class 'bool'>\n",
      "<class 'float'>\n"
     ]
    }
   ],
   "source": [
    "n1=55\n",
    "n2=\"retro\"\n",
    "f=True\n",
    "n3=555.555\n",
    "print(type(n1))\n",
    "print(type(n2))\n",
    "print(type(f))\n",
    "print(type(n3))"
   ]
  },
  {
   "cell_type": "code",
   "execution_count": 36,
   "id": "033d1bea",
   "metadata": {},
   "outputs": [
    {
     "name": "stdout",
     "output_type": "stream",
     "text": [
      "enter your name namu\n",
      "namu\n"
     ]
    }
   ],
   "source": [
    "un=input(\"enter your name \")\n",
    "print(un)"
   ]
  },
  {
   "cell_type": "code",
   "execution_count": 41,
   "id": "ebf7f3f7",
   "metadata": {},
   "outputs": [
    {
     "name": "stdout",
     "output_type": "stream",
     "text": [
      "cse \n",
      " cse \n",
      " cse\n",
      "raja\n",
      "aja\n",
      "boja\n"
     ]
    }
   ],
   "source": [
    "r=t=u=\"cse\"\n",
    "print(r,\"\\n\",t,\"\\n\",u)\n",
    "\n",
    "tt,nn,mm=\"raja\",\"aja\",\"boja\"\n",
    "print(tt)\n",
    "print(nn)\n",
    "print(mm)"
   ]
  },
  {
   "cell_type": "code",
   "execution_count": 42,
   "id": "d8d4086c",
   "metadata": {},
   "outputs": [
    {
     "name": "stdout",
     "output_type": "stream",
     "text": [
      "12\n",
      "12\n",
      "-12\n"
     ]
    }
   ],
   "source": [
    "n=12\n",
    "print(n)\n",
    "print(+n)\n",
    "print(-n)"
   ]
  },
  {
   "cell_type": "code",
   "execution_count": 45,
   "id": "4ff510df",
   "metadata": {},
   "outputs": [
    {
     "name": "stdout",
     "output_type": "stream",
     "text": [
      "False\n",
      "True\n",
      "True\n"
     ]
    }
   ],
   "source": [
    "print((10>8) and (10>12))\n",
    "print((10>8) or (10>12))\n",
    "print(not(10>12))"
   ]
  },
  {
   "cell_type": "code",
   "execution_count": 54,
   "id": "68cf7274",
   "metadata": {},
   "outputs": [
    {
     "name": "stdout",
     "output_type": "stream",
     "text": [
      "entre the nombar 7\n",
      "111\n",
      "entre the nombar 1000\n",
      "1111101000\n",
      "entre the nombar 7\n",
      "-1000\n"
     ]
    }
   ],
   "source": [
    "print(\"{0:b}\".format(int(input(\"entre the nombar \"))))\n",
    "print(\"{0:b}\".format(int(input(\"entre the nombar \"))))\n",
    "print(\"{0:b}\".format(~int(input(\"entre the nombar \"))))#~represent minus value"
   ]
  },
  {
   "cell_type": "code",
   "execution_count": 57,
   "id": "5ba99639",
   "metadata": {},
   "outputs": [
    {
     "name": "stdout",
     "output_type": "stream",
     "text": [
      "8\n",
      "27\n",
      "19\n"
     ]
    }
   ],
   "source": [
    "x=25\n",
    "y=10\n",
    "print(x&y)\n",
    "print(x|y)\n",
    "print(x^y)"
   ]
  },
  {
   "cell_type": "code",
   "execution_count": null,
   "id": "01e56789",
   "metadata": {},
   "outputs": [],
   "source": []
  }
 ],
 "metadata": {
  "kernelspec": {
   "display_name": "Python 3 (ipykernel)",
   "language": "python",
   "name": "python3"
  },
  "language_info": {
   "codemirror_mode": {
    "name": "ipython",
    "version": 3
   },
   "file_extension": ".py",
   "mimetype": "text/x-python",
   "name": "python",
   "nbconvert_exporter": "python",
   "pygments_lexer": "ipython3",
   "version": "3.9.12"
  }
 },
 "nbformat": 4,
 "nbformat_minor": 5
}
