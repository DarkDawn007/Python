{
 "cells": [
  {
   "cell_type": "code",
   "execution_count": 1,
   "id": "5f012cb4",
   "metadata": {},
   "outputs": [
    {
     "name": "stdout",
     "output_type": "stream",
     "text": [
      "Employee ID 1004\n",
      "Employee Name sachin\n",
      "Salary 20000\n"
     ]
    }
   ],
   "source": [
    "class employee:\n",
    "    name=\"sachin\"\n",
    "    empid=1004\n",
    "    salary=20000\n",
    "\n",
    "e=employee()\n",
    "\n",
    "print(\"Employee ID\",e.empid)\n",
    "print(\"Employee Name\",e.name)\n",
    "print(\"Salary\",e.salary)"
   ]
  },
  {
   "cell_type": "code",
   "execution_count": 9,
   "id": "d6963c2a",
   "metadata": {},
   "outputs": [
    {
     "name": "stdout",
     "output_type": "stream",
     "text": [
      "Enter the Register Number1001\n",
      "Enter Your NameShashi\n",
      "Enter Marks99\n",
      "Register Number 1001\n",
      "Name Shashi\n",
      "Marks 99\n"
     ]
    }
   ],
   "source": [
    "class stu:\n",
    "    regno=int(input(\"Enter the Register Number\"))\n",
    "    name=input(\"Enter Your Name\")\n",
    "    mark=int(input(\"Enter Marks\"))\n",
    "\n",
    "s=stu()\n",
    "\n",
    "print(\"Register Number\",s.regno)\n",
    "print(\"Name\",s.name)\n",
    "print(\"Marks\",s.mark)\n",
    "    "
   ]
  },
  {
   "cell_type": "code",
   "execution_count": 10,
   "id": "1d4704b3",
   "metadata": {},
   "outputs": [
    {
     "name": "stdout",
     "output_type": "stream",
     "text": [
      "Name  ravi\n",
      "Age  40\n",
      "City  Bangalore\n"
     ]
    }
   ],
   "source": [
    "class person:\n",
    "    def __init__(self,name,age,city):\n",
    "        self.name=name\n",
    "        self.age=age\n",
    "        self.city=city\n",
    "\n",
    "p1=person(\"ravi\",\"40\",\"Bangalore\")\n",
    "\n",
    "print(\"Name \",p1.name)\n",
    "print(\"Age \",p1.age)\n",
    "print(\"City \",p1.city)\n"
   ]
  },
  {
   "cell_type": "code",
   "execution_count": 12,
   "id": "043e27d4",
   "metadata": {},
   "outputs": [
    {
     "name": "stdout",
     "output_type": "stream",
     "text": [
      "Product ID  10001\n",
      "Product Name  Headphones\n",
      "Product Price  5000\n"
     ]
    }
   ],
   "source": [
    "class product:\n",
    "    def __init__(self,id,name,price):\n",
    "        self.id=id\n",
    "        self.name=name\n",
    "        self.price=price\n",
    "        \n",
    "    def display(self):\n",
    "        print(\"Product ID \",self.id)\n",
    "        print(\"Product Name \",self.name)\n",
    "        print(\"Product Price \",self.price)\n",
    "        \n",
    "p1=product(10001,\"Headphones\",5000)\n",
    "p1.display()"
   ]
  },
  {
   "cell_type": "code",
   "execution_count": 14,
   "id": "c27deb3c",
   "metadata": {},
   "outputs": [
    {
     "name": "stdout",
     "output_type": "stream",
     "text": [
      "sachin tendulkar\n"
     ]
    }
   ],
   "source": [
    "class person:\n",
    "    def __init__(self,fname,lname):\n",
    "        self.firstname=fname\n",
    "        self.lastname=lname\n",
    "\n",
    "        \n",
    "    def printname(self):\n",
    "        print(self.firstname,self.lastname)\n",
    "        \n",
    "        \n",
    "class student(person):\n",
    "    def __init__(self,fname,lname):\n",
    "        person.__init__(self,fname,lname)\n",
    "        \n",
    "x=student(\"sachin\",\"tendulkar\")\n",
    "x.printname()\n"
   ]
  },
  {
   "cell_type": "code",
   "execution_count": null,
   "id": "8553105e",
   "metadata": {},
   "outputs": [],
   "source": []
  }
 ],
 "metadata": {
  "kernelspec": {
   "display_name": "Python 3 (ipykernel)",
   "language": "python",
   "name": "python3"
  },
  "language_info": {
   "codemirror_mode": {
    "name": "ipython",
    "version": 3
   },
   "file_extension": ".py",
   "mimetype": "text/x-python",
   "name": "python",
   "nbconvert_exporter": "python",
   "pygments_lexer": "ipython3",
   "version": "3.9.12"
  }
 },
 "nbformat": 4,
 "nbformat_minor": 5
}
