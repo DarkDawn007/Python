{
 "cells": [
  {
   "cell_type": "code",
   "execution_count": 1,
   "id": "388ded00",
   "metadata": {},
   "outputs": [
    {
     "name": "stdout",
     "output_type": "stream",
     "text": [
      "{'_id': ObjectId('62c6647fa0843fe68ee02b58'),\n",
      " 'city': 'Bangalore',\n",
      " 'id': '101',\n",
      " 'name': 'Ajay'}\n"
     ]
    }
   ],
   "source": [
    "from pymongo import MongoClient\n",
    "import pprint\n",
    "client=MongoClient()\n",
    "db=client.demodb\n",
    "employee={\n",
    "    \"id\":\"101\",\n",
    "    \"name\":\"Ajay\",\n",
    "    \"city\":\"Bangalore\"\n",
    "}\n",
    "\n",
    "employees=db.employees\n",
    "employees.insert_one(employee)\n",
    "pprint.pprint(employees.find_one())"
   ]
  },
  {
   "cell_type": "code",
   "execution_count": null,
   "id": "d6bc2314",
   "metadata": {
    "scrolled": true
   },
   "outputs": [
    {
     "name": "stdout",
     "output_type": "stream",
     "text": [
      "\n",
      " select 1 to insert, 2 to update, 3 to read,4 to delete3\n",
      "\n",
      " all data from employeedata database\n",
      "{'_id': ObjectId('62c687f1a0843fe68ee02b5c'), 'id': '103', 'name': 'shel', 'age': '44', 'country': 'texas'}\n",
      "{'_id': ObjectId('62c6887fa0843fe68ee02b5e'), 'id': '102', 'name': 'leonard', 'age': '45', 'country': 'cincinati'}\n"
     ]
    }
   ],
   "source": [
    "from pymongo import MongoClient\n",
    "client=MongoClient('localhost:27017')\n",
    "db=client.EmployeeData\n",
    "\n",
    "\n",
    "def main():\n",
    "    while(1):\n",
    "        selection=input(\"\\n select 1 to insert, 2 to update, 3 to read,4 to delete\")\n",
    "\n",
    "        if(selection=='1'):\n",
    "            insert()\n",
    "        elif(selection=='2'):\n",
    "            update()\n",
    "        elif(selection=='3'):\n",
    "            read()\n",
    "        elif(selection =='4'):\n",
    "            delete()\n",
    "        else:\n",
    "            print(\"\\n invalid selection\")\n",
    "            \n",
    "def insert():\n",
    "\n",
    "        employeeId=input('enter employee id')\n",
    "        employeeName=input('enter employee name')\n",
    "        employeeAge=input('enter employee age')\n",
    "        employeeCountry=input('enter employee country')\n",
    "\n",
    "        db.Employees.insert_one(\n",
    "        {\n",
    "            \"id\":employeeId,\n",
    "            \"name\":employeeName,\n",
    "            \"age\":employeeAge,\n",
    "            \"country\":employeeCountry\n",
    "        })\n",
    "\n",
    "#     except Exception, e:\n",
    "#         print(str(e));\n",
    "\n",
    "\n",
    "def read():\n",
    "#     try:\n",
    "        empcol=db.Employees.find()\n",
    "        print(\"\\n all data from employeedata database\")\n",
    "        for emp in empcol:\n",
    "            print(emp)\n",
    "\n",
    "#     except Exception, e:\n",
    "#         print(str(e))\n",
    "\n",
    "def update():\n",
    "#     try:\n",
    "        criteria=input(\"\\n Enter id to update\")\n",
    "        name=input(\"\\n enter name to update\\n\")\n",
    "        age=input(\"\\n enter age to update\")\n",
    "        country=input(\"\\n enter the country to update\")\n",
    "\n",
    "        db.Employees.update_one(\n",
    "        {\"id\":criteria},\n",
    "        {\n",
    "            \"$set\":{\n",
    "                \"name\":name,\n",
    "                \"age\":age,\n",
    "                \"country\":country\n",
    "            }\n",
    "\n",
    "        })\n",
    "        print(\"\\n records updated successfully\\n\")\n",
    "#     except Exception, e:\n",
    "#         print(str(e))\n",
    "\n",
    "def delete():\n",
    "#     try:\n",
    "        criteria=input(\"\\n Enter id to update\")\n",
    "        db.Employees.delete_many({\"id\":criteria})\n",
    "        print(\"\\n Deletion successful\")\n",
    "\n",
    "#     except Exception, e:\n",
    "#         print(str(e))\n",
    "\n",
    "\n",
    "main()"
   ]
  },
  {
   "cell_type": "code",
   "execution_count": null,
   "id": "a2fafa80",
   "metadata": {},
   "outputs": [],
   "source": []
  }
 ],
 "metadata": {
  "kernelspec": {
   "display_name": "Python 3 (ipykernel)",
   "language": "python",
   "name": "python3"
  },
  "language_info": {
   "codemirror_mode": {
    "name": "ipython",
    "version": 3
   },
   "file_extension": ".py",
   "mimetype": "text/x-python",
   "name": "python",
   "nbconvert_exporter": "python",
   "pygments_lexer": "ipython3",
   "version": "3.9.12"
  }
 },
 "nbformat": 4,
 "nbformat_minor": 5
}
