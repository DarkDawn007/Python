{
 "cells": [
  {
   "cell_type": "code",
   "execution_count": 1,
   "id": "881c12d8",
   "metadata": {},
   "outputs": [
    {
     "name": "stdout",
     "output_type": "stream",
     "text": [
      "0 Anu\n",
      "1 vijay\n",
      "2 Radha\n",
      "3 manoj\n",
      "4 Ravi\n",
      "5 John\n"
     ]
    }
   ],
   "source": [
    "names=[\"Anu\",\"vijay\", \"Radha\", \"manoj\", \"Ravi\", \"John\"]\n",
    "for idx,val in enumerate(names):\n",
    "    print(idx, val)"
   ]
  },
  {
   "cell_type": "code",
   "execution_count": 2,
   "id": "b019f601",
   "metadata": {},
   "outputs": [
    {
     "name": "stdout",
     "output_type": "stream",
     "text": [
      "1011 Anu\n",
      "1002 vijay\n",
      "1005 Radha\n",
      "1006 manoj\n",
      "1004 Ravi\n",
      "4006 John\n"
     ]
    }
   ],
   "source": [
    "reg=[1011,1002,1005,1006,1004,4006]\n",
    "names=[\"Anu\",\"vijay\", \"Radha\", \"manoj\", \"Ravi\", \"John\"]\n",
    "\n",
    "for rno,name in zip(reg,names):\n",
    "    print(rno,name)"
   ]
  },
  {
   "cell_type": "code",
   "execution_count": 3,
   "id": "c90ecdf1",
   "metadata": {},
   "outputs": [
    {
     "name": "stdout",
     "output_type": "stream",
     "text": [
      "John\n",
      "Ravi\n",
      "manoj\n",
      "Radha\n",
      "vijay\n",
      "Anu\n",
      "4006\n",
      "1004\n",
      "1006\n",
      "1005\n",
      "1002\n",
      "1011\n"
     ]
    }
   ],
   "source": [
    "reg=[1011,1002,1005,1006,1004,4006]\n",
    "names=[\"Anu\",\"vijay\", \"Radha\", \"manoj\", \"Ravi\", \"John\"]\n",
    "\n",
    "for i in reversed(names):\n",
    "    print(i)\n",
    "\n",
    "for j in reversed(reg):\n",
    "    print(j)"
   ]
  },
  {
   "cell_type": "code",
   "execution_count": 4,
   "id": "29bbf272",
   "metadata": {},
   "outputs": [
    {
     "name": "stdout",
     "output_type": "stream",
     "text": [
      "{'id': 1001, 'name': 'books', 'qty': 160, 'price': 2500}\n",
      "id 1001\n",
      "name books\n",
      "qty 160\n",
      "price 2500\n"
     ]
    }
   ],
   "source": [
    "pro={\"id\":1001,\"name\":\"books\",\"qty\":160,\"price\":2500}\n",
    "print(pro)\n",
    "\n",
    "for k,v in pro.items():\n",
    "    print(k,v)"
   ]
  },
  {
   "cell_type": "code",
   "execution_count": 6,
   "id": "027fd392",
   "metadata": {},
   "outputs": [
    {
     "name": "stdout",
     "output_type": "stream",
     "text": [
      "True\n",
      "True\n",
      "True\n",
      "False\n",
      "False\n",
      "True\n"
     ]
    }
   ],
   "source": [
    "pro={id:1001,\"name\":\"books\",\"qty\":160,\"price\":2500}\n",
    "print(\"price\" in pro)\n",
    "print(id in pro)\n",
    "\n",
    "reg=[1011,1002,1005,1006,1004,4006]\n",
    "print(1011 in reg)\n",
    "print(459349 in reg)\n",
    "\n",
    "reg=[1011,1002,1005,1006,1004,4006]\n",
    "print(1011 not in reg)\n",
    "print(459349 not in reg)"
   ]
  },
  {
   "cell_type": "code",
   "execution_count": 7,
   "id": "dca42247",
   "metadata": {},
   "outputs": [
    {
     "name": "stdout",
     "output_type": "stream",
     "text": [
      "6\n",
      "[1011, 1003, 1005, 1006, 1004, 4806, 1011, 1003, 1005, 1006, 1004, 4806]\n",
      "[1011, 1003, 1005, 1006, 1004, 4806, 'Anu', 'vijay', 'Radha', 'manoj', 'Ravi', 'John']\n",
      "1003\n",
      "4006\n",
      "index is: 1\n"
     ]
    }
   ],
   "source": [
    "regno=[1011,1003,1005, 1006,1004,4006] \n",
    "print(len(regno))\n",
    "\n",
    "regno=[1011,1003, 1005,1006, 1004, 4806]\n",
    "print(regno*2)\n",
    "\n",
    "names=[\"Anu\", \"vijay\", \"Radha\", \"manoj\", \"Ravi\", \"John\"] \n",
    "print(regno+names)\n",
    "\n",
    "regno=[1011,1003,1005, 1005, 1004,4006]\n",
    "print(min(regno))\n",
    "print(max(regno))\n",
    "print(\"index is:\",regno.index(1003))"
   ]
  },
  {
   "cell_type": "code",
   "execution_count": 8,
   "id": "29bcd434",
   "metadata": {},
   "outputs": [
    {
     "name": "stdout",
     "output_type": "stream",
     "text": [
      "[0, 1, 2, 3, 4, 5, 6, 7, 8, 9]\n",
      "[2, 3, 4, 5, 6, 7, 8, 9]\n",
      "[5, 10, 15, 20, 25, 30, 35, 40, 45]\n"
     ]
    }
   ],
   "source": [
    "l1=list(range(10))\n",
    "print(l1)\n",
    "\n",
    "l2=list(range(2,10))\n",
    "print(l2)\n",
    "\n",
    "l3=list(range(5,50,5))\n",
    "print(l3)\n"
   ]
  },
  {
   "cell_type": "code",
   "execution_count": 10,
   "id": "4692f1c5",
   "metadata": {},
   "outputs": [
    {
     "name": "stdout",
     "output_type": "stream",
     "text": [
      "Enter The Year2001\n",
      "Not a Leap Year\n"
     ]
    }
   ],
   "source": [
    "if((int(input(\"Enter The Year\")))%4==0):\n",
    "    print(\"Leap year\")\n",
    "else:\n",
    "    print(\"Not a Leap Year\")"
   ]
  },
  {
   "cell_type": "code",
   "execution_count": 8,
   "id": "99c622cb",
   "metadata": {},
   "outputs": [
    {
     "name": "stdout",
     "output_type": "stream",
     "text": [
      "enter the employee_id1\n",
      "enter the employee name1\n",
      "enter the employee salary1\n",
      "Employee number: 1\n",
      "Employee name: 1\n",
      "Employee salary:  1\n",
      "Employee HRA:  0.1\n"
     ]
    }
   ],
   "source": [
    "eno=int(input(\"enter the employee_id\"))\n",
    "ename=input(\"enter the employee name\")\n",
    "salary=int(input(\"enter the employee salary\"))\n",
    "\n",
    "if salary>35000:\n",
    "    hra=salary*20/100\n",
    "    \n",
    "elif (salary>=20000 and salary<30000):\n",
    "    hra=salary*15/100\n",
    "    \n",
    "else:\n",
    "    hra=salary*10/100\n",
    "\n",
    "print(\"Employee number:\", eno)\n",
    "print(\"Employee name:\",ename)\n",
    "print(\"Employee salary: \", salary)\n",
    "print(\"Employee HRA: \",hra)"
   ]
  },
  {
   "cell_type": "code",
   "execution_count": 4,
   "id": "3e9fd707",
   "metadata": {},
   "outputs": [
    {
     "name": "stdout",
     "output_type": "stream",
     "text": [
      "enter how many time should this to loop1\n",
      "0\n"
     ]
    }
   ],
   "source": [
    "i=0\n",
    "n=(int(input(\"enter how many time should this to loop\")))\n",
    "\n",
    "while(i<n):\n",
    "    if(i==5):\n",
    "        continue\n",
    "    else:\n",
    "        print(i)\n",
    "    i+=1\n"
   ]
  },
  {
   "cell_type": "code",
   "execution_count": 6,
   "id": "13ef6c2e",
   "metadata": {},
   "outputs": [
    {
     "name": "stdout",
     "output_type": "stream",
     "text": [
      "apple\n",
      "orange\n",
      "jack\n",
      "kiwi\n",
      "lemon\n",
      "h\n",
      "e\n",
      "l\n",
      "l\n",
      "o\n",
      " \n",
      "w\n",
      "o\n",
      "r\n",
      "l\n",
      "d\n"
     ]
    }
   ],
   "source": [
    "f=[\"apple\",\"orange\",\"jack\",\"kiwi\",\"lemon\"]\n",
    "for x in f:\n",
    "    print(x)\n",
    "\n",
    "for i in \"hello world\":\n",
    "    print(i)"
   ]
  },
  {
   "cell_type": "code",
   "execution_count": 7,
   "id": "eb6e6edc",
   "metadata": {},
   "outputs": [
    {
     "name": "stdout",
     "output_type": "stream",
     "text": [
      "hello\n",
      "hello\n"
     ]
    }
   ],
   "source": [
    "def a():\n",
    "    print(\"hello\")\n",
    "a()\n",
    "a()"
   ]
  },
  {
   "cell_type": "code",
   "execution_count": 8,
   "id": "bc604bb6",
   "metadata": {},
   "outputs": [
    {
     "name": "stdout",
     "output_type": "stream",
     "text": [
      "Enter A10\n",
      "Enter B20\n",
      "30\n"
     ]
    }
   ],
   "source": [
    "def sum(n,m):\n",
    "    return(n+m)\n",
    "\n",
    "print(sum(int(input(\"Enter A\")),int(input(\"Enter B\"))))"
   ]
  },
  {
   "cell_type": "code",
   "execution_count": 9,
   "id": "71d0637c",
   "metadata": {},
   "outputs": [
    {
     "name": "stdout",
     "output_type": "stream",
     "text": [
      "Enter A10\n",
      "Enter B20\n",
      "200\n"
     ]
    }
   ],
   "source": [
    "def mul(n,m):\n",
    "    return(n*m)\n",
    "\n",
    "print(mul(int(input(\"Enter A\")),int(input(\"Enter B\"))))"
   ]
  },
  {
   "cell_type": "code",
   "execution_count": 11,
   "id": "3aa7b0e7",
   "metadata": {},
   "outputs": [
    {
     "name": "stdout",
     "output_type": "stream",
     "text": [
      "50\n"
     ]
    }
   ],
   "source": [
    "ad= lambda x,y:x+y\n",
    "print(ad(20,30))"
   ]
  },
  {
   "cell_type": "code",
   "execution_count": 12,
   "id": "a9acccb7",
   "metadata": {},
   "outputs": [
    {
     "name": "stdout",
     "output_type": "stream",
     "text": [
      "2000\n"
     ]
    }
   ],
   "source": [
    "mul=lambda x,y,z:x*y*z\n",
    "print(mul(10,20,10))"
   ]
  }
 ],
 "metadata": {
  "kernelspec": {
   "display_name": "Python 3 (ipykernel)",
   "language": "python",
   "name": "python3"
  },
  "language_info": {
   "codemirror_mode": {
    "name": "ipython",
    "version": 3
   },
   "file_extension": ".py",
   "mimetype": "text/x-python",
   "name": "python",
   "nbconvert_exporter": "python",
   "pygments_lexer": "ipython3",
   "version": "3.9.12"
  }
 },
 "nbformat": 4,
 "nbformat_minor": 5
}
