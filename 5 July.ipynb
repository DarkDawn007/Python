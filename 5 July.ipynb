{
 "cells": [
  {
   "cell_type": "code",
   "execution_count": 7,
   "id": "c1bf6eb8",
   "metadata": {},
   "outputs": [
    {
     "name": "stdout",
     "output_type": "stream",
     "text": [
      "Hello\n",
      "working perfect\n",
      "It will execute always\n"
     ]
    }
   ],
   "source": [
    "try:\n",
    "    print(\"Hello\")\n",
    "except NameError:\n",
    "    print(\"something went wrong\")\n",
    "else:\n",
    "    print(\"working perfect\")\n",
    "finally:\n",
    "    print(\"It will execute always\")"
   ]
  },
  {
   "cell_type": "code",
   "execution_count": 4,
   "id": "9a96e88c",
   "metadata": {},
   "outputs": [
    {
     "name": "stdout",
     "output_type": "stream",
     "text": [
      "something went wrong\n",
      "It will execute always\n"
     ]
    }
   ],
   "source": [
    "try:\n",
    "    print(x)\n",
    "except NameError:\n",
    "    print(\"something went wrong\")\n",
    "finally:\n",
    "    print(\"It will execute always\")"
   ]
  },
  {
   "cell_type": "code",
   "execution_count": 11,
   "id": "e371f6fc",
   "metadata": {},
   "outputs": [
    {
     "name": "stdout",
     "output_type": "stream",
     "text": [
      "Enter The Age17\n",
      "17\n"
     ]
    },
    {
     "ename": "Exception",
     "evalue": "Sorry! Age should be Greater than 18",
     "output_type": "error",
     "traceback": [
      "\u001b[1;31m---------------------------------------------------------------------------\u001b[0m",
      "\u001b[1;31mException\u001b[0m                                 Traceback (most recent call last)",
      "Input \u001b[1;32mIn [11]\u001b[0m, in \u001b[0;36m<cell line: 4>\u001b[1;34m()\u001b[0m\n\u001b[0;32m      2\u001b[0m \u001b[38;5;28mprint\u001b[39m(age)\n\u001b[0;32m      4\u001b[0m \u001b[38;5;28;01mif\u001b[39;00m age\u001b[38;5;241m<\u001b[39m\u001b[38;5;241m18\u001b[39m:\n\u001b[1;32m----> 5\u001b[0m     \u001b[38;5;28;01mraise\u001b[39;00m \u001b[38;5;167;01mException\u001b[39;00m(\u001b[38;5;124m\"\u001b[39m\u001b[38;5;124mSorry! Age should be Greater than 18\u001b[39m\u001b[38;5;124m\"\u001b[39m)\n",
      "\u001b[1;31mException\u001b[0m: Sorry! Age should be Greater than 18"
     ]
    }
   ],
   "source": [
    "age=int(input(\"Enter The Age\"))\n",
    "print(age)\n",
    "\n",
    "if age<18:\n",
    "    raise Exception(\"Sorry! Age should be Greater than 18\")"
   ]
  },
  {
   "cell_type": "code",
   "execution_count": 13,
   "id": "4afb26c8",
   "metadata": {},
   "outputs": [
    {
     "name": "stdout",
     "output_type": "stream",
     "text": [
      "Running First Thread\n",
      "\n",
      "Running second Thread\n",
      "\n",
      "Running First Thread\n",
      "\n",
      "Running Third Thread\n",
      "\n",
      "Running First Thread\n",
      "\n",
      "Running second Thread\n",
      "\n",
      "Running First Thread\n",
      "\n",
      "First Thread has finished execution\n",
      "Running Third Thread\n",
      "\n",
      "Running second Thread\n",
      "\n",
      "Running second Thread\n",
      "\n",
      "second Thread has finished execution\n",
      "Running Third Thread\n",
      "\n",
      "Running Third Thread\n",
      "\n",
      "Third Thread has finished execution\n"
     ]
    }
   ],
   "source": [
    "import time\n",
    "import _thread\n",
    "\n",
    "def thread_test(name, wait):\n",
    "    i = 0\n",
    "    while i <= 3:\n",
    "        time.sleep(wait)\n",
    "        print(\"Running %s\\n\" %name)\n",
    "        i = i+1\n",
    "\n",
    "    print(\"%s has finished execution\" %name)\n",
    "\n",
    "if __name__ == \"__main__\":\n",
    "\n",
    "    _thread.start_new_thread(thread_test, (\"First Thread\", 1))\n",
    "    _thread.start_new_thread(thread_test, (\"second Thread\", 2))\n",
    "    _thread.start_new_thread(thread_test, (\"Third Thread\", 3))"
   ]
  },
  {
   "cell_type": "code",
   "execution_count": 15,
   "id": "c6f5078f",
   "metadata": {},
   "outputs": [
    {
     "name": "stdout",
     "output_type": "stream",
     "text": [
      "Error:Unable to start the thread\n"
     ]
    },
    {
     "ename": "KeyboardInterrupt",
     "evalue": "",
     "output_type": "error",
     "traceback": [
      "\u001b[1;31m---------------------------------------------------------------------------\u001b[0m",
      "\u001b[1;31mKeyboardInterrupt\u001b[0m                         Traceback (most recent call last)",
      "Input \u001b[1;32mIn [15]\u001b[0m, in \u001b[0;36m<cell line: 25>\u001b[1;34m()\u001b[0m\n\u001b[0;32m     22\u001b[0m     \u001b[38;5;28mprint\u001b[39m(\u001b[38;5;124m\"\u001b[39m\u001b[38;5;124mError:Unable to start the thread\u001b[39m\u001b[38;5;124m\"\u001b[39m)\n\u001b[0;32m     24\u001b[0m \u001b[38;5;28;01mwhile\u001b[39;00m \u001b[38;5;241m1\u001b[39m:\n\u001b[1;32m---> 25\u001b[0m     \u001b[38;5;28;01mpass\u001b[39;00m\n",
      "\u001b[1;31mKeyboardInterrupt\u001b[0m: "
     ]
    }
   ],
   "source": [
    "#multi threading in python\n",
    "\n",
    "import _thread\n",
    "import time\n",
    "\n",
    "# create a thread\n",
    "\n",
    "def print_time(threadName,delay):\n",
    "    count=0\n",
    "    while count<5:\n",
    "        time.sleep(delay)\n",
    "        count+=1;\n",
    "        print(\"%s:%s\"%(threadName,time.ctime(time.time())))\n",
    "\n",
    "#creating thread classes\n",
    "\n",
    "try:\n",
    "    thread.start_new_thread(print_time,(\"Thread-1\",2))\n",
    "    thread.start_new_thread(print_time,(\"Thread-1\",2))\n",
    "\n",
    "except:\n",
    "    print(\"Error:Unable to start the thread\")\n",
    "\n",
    "while 1:\n",
    "    pass"
   ]
  },
  {
   "cell_type": "code",
   "execution_count": 21,
   "id": "82d4b7c7",
   "metadata": {},
   "outputs": [
    {
     "name": "stdout",
     "output_type": "stream",
     "text": [
      "Running First Thread\n",
      "\n",
      "Running second Thread\n",
      "\n",
      "Running First Thread\n",
      "\n",
      "Running Third Thread\n",
      "\n",
      "Running First Thread\n",
      "\n",
      "Running second Thread\n",
      "\n",
      "Running First Thread\n",
      "\n",
      "First Thread has finished execution\n",
      "Running second Thread\n",
      "Running Third Thread\n",
      "\n",
      "\n",
      "Running second Thread\n",
      "\n",
      "second Thread has finished execution\n",
      "Running Third Thread\n",
      "\n",
      "Running Third Thread\n",
      "\n",
      "Third Thread has finished execution\n"
     ]
    }
   ],
   "source": [
    "import time\n",
    "import _thread\n",
    "\n",
    "def thread_test(name, wait):\n",
    "    i = 0\n",
    "    while i <= 3:\n",
    "        time.sleep(wait)\n",
    "        print(\"Running %s\\n\" %name)\n",
    "        i = i+1\n",
    "\n",
    "    print(\"%s has finished execution\" %name)\n",
    "\n",
    "if __name__ == \"__main__\":\n",
    "\n",
    "    _thread.start_new_thread(thread_test, (\"First Thread\", 1))\n",
    "    _thread.start_new_thread(thread_test, (\"second Thread\", 2))\n",
    "    _thread.start_new_thread(thread_test, (\"Third Thread\", 3))"
   ]
  },
  {
   "cell_type": "code",
   "execution_count": null,
   "id": "a7fd69c0",
   "metadata": {},
   "outputs": [],
   "source": []
  }
 ],
 "metadata": {
  "kernelspec": {
   "display_name": "Python 3 (ipykernel)",
   "language": "python",
   "name": "python3"
  },
  "language_info": {
   "codemirror_mode": {
    "name": "ipython",
    "version": 3
   },
   "file_extension": ".py",
   "mimetype": "text/x-python",
   "name": "python",
   "nbconvert_exporter": "python",
   "pygments_lexer": "ipython3",
   "version": "3.9.12"
  }
 },
 "nbformat": 4,
 "nbformat_minor": 5
}
