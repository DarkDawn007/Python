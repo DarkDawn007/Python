{
 "cells": [
  {
   "cell_type": "code",
   "execution_count": 1,
   "id": "b20ab064",
   "metadata": {},
   "outputs": [
    {
     "name": "stdout",
     "output_type": "stream",
     "text": [
      "sachin   tendulkar\n"
     ]
    }
   ],
   "source": [
    "class person:\n",
    "    def __init__(self,fname,lname):\n",
    "        self.fn=fname\n",
    "        self.ln=lname\n",
    "        \n",
    "    def pn(self):\n",
    "        print(self.fn,\" \",self.ln)\n",
    "        \n",
    "class st(person):\n",
    "    pass\n",
    "\n",
    "s=st(\"sachin\",\"tendulkar\")\n",
    "s.pn()"
   ]
  },
  {
   "cell_type": "code",
   "execution_count": 30,
   "id": "b855721e",
   "metadata": {},
   "outputs": [
    {
     "name": "stdout",
     "output_type": "stream",
     "text": [
      "Hello Wellcome to this file \n",
      "i will open this file\n",
      "using  python\n",
      "woooowwwweeeeeeNow the file Has note contentNow the file Has note content\n"
     ]
    }
   ],
   "source": [
    "f=open(\"D://nu.txt\",\"r\")\n",
    "print(f.read())\n",
    "f.close()"
   ]
  },
  {
   "cell_type": "code",
   "execution_count": 31,
   "id": "dca95572",
   "metadata": {},
   "outputs": [
    {
     "name": "stdout",
     "output_type": "stream",
     "text": [
      "Hello Well\n"
     ]
    }
   ],
   "source": [
    "f=open(\"D://nu.txt\",\"r\")\n",
    "print(f.read(10))\n",
    "f.close()"
   ]
  },
  {
   "cell_type": "code",
   "execution_count": 32,
   "id": "85629cee",
   "metadata": {},
   "outputs": [
    {
     "name": "stdout",
     "output_type": "stream",
     "text": [
      "Hello Wellcome to this file \n",
      "\n"
     ]
    }
   ],
   "source": [
    "f=open(\"D://nu.txt\",\"r\")\n",
    "print(f.readline())\n",
    "f.close()"
   ]
  },
  {
   "cell_type": "code",
   "execution_count": 33,
   "id": "5877e3aa",
   "metadata": {},
   "outputs": [],
   "source": [
    "fi=open(\"D://nu.txt\",\"a\")\n",
    "fi.write(\"Now the file Has note content\")\n",
    "fi.close()"
   ]
  },
  {
   "cell_type": "code",
   "execution_count": 34,
   "id": "76f10fd4",
   "metadata": {},
   "outputs": [
    {
     "name": "stdout",
     "output_type": "stream",
     "text": [
      "Hello Wellcome to this file \n",
      "i will open this file\n",
      "using  python\n",
      "woooowwwweeeeeeNow the file Has note contentNow the file Has note contentNow the file Has note contentNow the file Has note content\n"
     ]
    }
   ],
   "source": [
    "f1=open(\"D://nu.txt\",\"r\")\n",
    "print(f1.read())\n",
    "f1.close()"
   ]
  },
  {
   "cell_type": "code",
   "execution_count": 35,
   "id": "e5d56f10",
   "metadata": {},
   "outputs": [
    {
     "name": "stdout",
     "output_type": "stream",
     "text": [
      "File Created\n"
     ]
    }
   ],
   "source": [
    "f1=open(\"D://nu2.txt\",\"w\")\n",
    "print(\"File Created\")\n",
    "f1.close()"
   ]
  },
  {
   "cell_type": "code",
   "execution_count": 39,
   "id": "d32e877b",
   "metadata": {},
   "outputs": [
    {
     "name": "stdout",
     "output_type": "stream",
     "text": [
      "Content written\n"
     ]
    }
   ],
   "source": [
    "f1=open(\"D://nu2.txt\",\"w\")\n",
    "f1.write(\"Now the file Has note content\")\n",
    "print(\"Content written\")\n",
    "f1.close()"
   ]
  },
  {
   "cell_type": "code",
   "execution_count": 38,
   "id": "352f036f",
   "metadata": {},
   "outputs": [
    {
     "name": "stdout",
     "output_type": "stream",
     "text": [
      "Now the file Has note content\n"
     ]
    }
   ],
   "source": [
    "f1=open(\"D://nu2.txt\",\"r\")\n",
    "print(f1.read())\n",
    "f1.close()\n",
    "f.close()"
   ]
  },
  {
   "cell_type": "code",
   "execution_count": 2,
   "id": "65250560",
   "metadata": {
    "scrolled": true
   },
   "outputs": [
    {
     "name": "stdout",
     "output_type": "stream",
     "text": [
      "File Deleted\n"
     ]
    }
   ],
   "source": [
    "import os\n",
    "if os.path.exists(\"D://nu2.txt\"):\n",
    "    os.remove(\"D://nu2.txt\")\n",
    "    print(\"File Deleted\")\n",
    "\n",
    "else:\n",
    "    print(\"the file doesnt exist\")\n"
   ]
  },
  {
   "cell_type": "code",
   "execution_count": 11,
   "id": "ccb38779",
   "metadata": {},
   "outputs": [
    {
     "name": "stdout",
     "output_type": "stream",
     "text": [
      "Year is 2022\n",
      "Week Day Full version is Friday\n",
      "Day is 5\n",
      "Month name full version is July\n",
      "Month as Number 07\n",
      "Month is 7\n",
      "Hour is 12\n",
      "Minute is 12\n",
      "Second is 28\n",
      "Week Number Of year 26\n",
      "locale date time is Fri Jul  1 12:12:28 2022\n",
      "locale date time is 07/01/22\n",
      "locale date time is 12:12:28\n"
     ]
    }
   ],
   "source": [
    "import datetime as d\n",
    "x=d.datetime.now()\n",
    "\n",
    "print(\"Year is\",x.year)\n",
    "print(\"Week Day Full version is\",x.strftime(\"%A\"))#weekday full version\n",
    "print(\"Day is\",x.strftime(\"%w\"))#weekday as number\n",
    "print(\"Month name full version is\",x.strftime(\"%B\"))#month name full version\n",
    "print(\"Month as Number\",x.strftime(\"%m\"))\n",
    "print(\"Month is\",x.month)\n",
    "print(\"Hour is\",x.strftime(\"%H\"))\n",
    "print(\"Minute is\",x.strftime(\"%M\"))\n",
    "print(\"Second is\",x.strftime(\"%S\"))\n",
    "print(\"Week Number Of year\",x.strftime(\"%U\"))\n",
    "print(\"locale date time is\",x.strftime(\"%c\"))\n",
    "print(\"locale date time is\",x.strftime(\"%x\"))\n",
    "print(\"locale date time is\",x.strftime(\"%X\"))"
   ]
  },
  {
   "cell_type": "code",
   "execution_count": 10,
   "id": "71027ae1",
   "metadata": {},
   "outputs": [
    {
     "name": "stdout",
     "output_type": "stream",
     "text": [
      "custom date : 1990-05-25 00:00:00\n"
     ]
    }
   ],
   "source": [
    "import datetime as d\n",
    "dt=d.datetime(1990,5,25)\n",
    "print(\"custom date :\",dt)"
   ]
  },
  {
   "cell_type": "code",
   "execution_count": 15,
   "id": "d4636faa",
   "metadata": {},
   "outputs": [
    {
     "name": "stdout",
     "output_type": "stream",
     "text": [
      "Name is  John\n",
      "Age is  30\n",
      "City is  Bangalore\n",
      "\"{\\\"name\\\":\\\"John\\\",\\\"age\\\":30,\\\"city\\\":\\\"Bangalore\\\"}\"\n"
     ]
    }
   ],
   "source": [
    "import json\n",
    "person='{\"name\":\"John\",\"age\":30,\"city\":\"Bangalore\"}'\n",
    "y=json.loads(person)\n",
    "print(\"Name is \",y[\"name\"])\n",
    "print(\"Age is \",y[\"age\"])\n",
    "print(\"City is \",y[\"city\"])\n",
    "\n",
    "data=json.dumps(person)\n",
    "print(data)"
   ]
  },
  {
   "cell_type": "code",
   "execution_count": 18,
   "id": "9728d58c",
   "metadata": {},
   "outputs": [
    {
     "name": "stdout",
     "output_type": "stream",
     "text": [
      "{\"name\": \"John\", \"age\": 50}\n",
      "[\"Apple\", \"Orange\", \"Banana\"]\n",
      "[\"Apple\", \"Orange\", \"Banana\"]\n"
     ]
    }
   ],
   "source": [
    "import json\n",
    "\n",
    "print(json.dumps({\"name\":\"John\",\"age\":50}))\n",
    "print(json.dumps([\"Apple\",\"Orange\",\"Banana\"]))\n",
    "print(json.dumps((\"Apple\",\"Orange\",\"Banana\")))"
   ]
  },
  {
   "cell_type": "code",
   "execution_count": 23,
   "id": "ed82ee69",
   "metadata": {},
   "outputs": [
    {
     "name": "stdout",
     "output_type": "stream",
     "text": [
      "yes! we have a match\n"
     ]
    }
   ],
   "source": [
    "import re\n",
    "\n",
    "txt=\"Its raining in spain\"\n",
    "x=re.search(\"^Its.*pain$\",txt)\n",
    "\n",
    "if x:\n",
    "    print(\"yes! we have a match\")\n",
    "else:\n",
    "    print(\"No match\")"
   ]
  },
  {
   "cell_type": "code",
   "execution_count": 24,
   "id": "566a5f02",
   "metadata": {},
   "outputs": [
    {
     "name": "stdout",
     "output_type": "stream",
     "text": [
      "['h', 'e', 'a', 'i', 'i', 'a', 'i']\n",
      "yes,the string start with 'hello'\n"
     ]
    }
   ],
   "source": [
    "import re\n",
    "pattern=\"The rain in spain\"\n",
    "match=re.findall(\"[a-m]\",pattern)\n",
    "print(match)\n",
    "\n",
    "pattern1=\"Hello world\";\n",
    "m=re.findall(\"^Hello\",pattern1)\n",
    "\n",
    "if m:\n",
    "    print(\"yes,the string start with 'hello'\")\n",
    "\n",
    "else:\n",
    "    print(\"no match found\")"
   ]
  },
  {
   "cell_type": "code",
   "execution_count": 25,
   "id": "5d2f4658",
   "metadata": {},
   "outputs": [
    {
     "name": "stdout",
     "output_type": "stream",
     "text": [
      "['falls']\n",
      "yes,there is at least one match\n"
     ]
    }
   ],
   "source": [
    "import re\n",
    "pattern=\"The rain in spain falls mainly in the plain\"\n",
    "match=re.findall(\"falls|says\",pattern)\n",
    "print(match)\n",
    "\n",
    "\n",
    "\n",
    "if match:\n",
    "    print(\"yes,there is at least one match\")\n",
    "\n",
    "else:\n",
    "    print(\"no match found\")"
   ]
  },
  {
   "cell_type": "code",
   "execution_count": 26,
   "id": "d6862905",
   "metadata": {},
   "outputs": [
    {
     "name": "stdout",
     "output_type": "stream",
     "text": [
      "['hello']\n"
     ]
    }
   ],
   "source": [
    "import re\n",
    "\n",
    "pattern=\"hello world\"\n",
    "\n",
    "m=re.findall(\"he.{2}o\",pattern)\n",
    "print(m)"
   ]
  },
  {
   "cell_type": "code",
   "execution_count": 27,
   "id": "02885825",
   "metadata": {},
   "outputs": [
    {
     "name": "stdout",
     "output_type": "stream",
     "text": [
      "['hello']\n",
      "['planet']\n"
     ]
    }
   ],
   "source": [
    "import re \n",
    "pattern =\"hello planet\"\n",
    "match=re.findall(\"he.*o\",pattern) \n",
    "print(match) \n",
    "match1=re.findall(\"pl.*t\",pattern) \n",
    "print(match1)"
   ]
  },
  {
   "cell_type": "code",
   "execution_count": 28,
   "id": "84b8cbcb",
   "metadata": {},
   "outputs": [
    {
     "name": "stdout",
     "output_type": "stream",
     "text": [
      "['The']\n",
      "yes,there is a match\n"
     ]
    }
   ],
   "source": [
    "import re\n",
    "\n",
    "pattern =\"The rain in spain\"\n",
    "match=re.findall(\"\\AThe\",pattern)# A for only checking the first word \n",
    "print(match)\n",
    "\n",
    "if match:\n",
    "    print(\"yes,there is a match\")\n",
    "else:\n",
    "    print(\"No match\")"
   ]
  },
  {
   "cell_type": "code",
   "execution_count": 29,
   "id": "8119d6d3",
   "metadata": {},
   "outputs": [
    {
     "name": "stdout",
     "output_type": "stream",
     "text": [
      "the first white-space character is located in position: 3\n"
     ]
    }
   ],
   "source": [
    "import re\n",
    "\n",
    "txt=\"The rain in spain\"\n",
    "match=re.search(\"\\s\",txt)#\\s it will search for space\n",
    "\n",
    "print(\"the first white-space character is located in position:\",match.start())"
   ]
  },
  {
   "cell_type": "code",
   "execution_count": 30,
   "id": "995aa4f1",
   "metadata": {},
   "outputs": [
    {
     "name": "stdout",
     "output_type": "stream",
     "text": [
      "the*rain*in*spain\n"
     ]
    }
   ],
   "source": [
    "import  re\n",
    "pattern =\"the rain in spain\"\n",
    "match=re.sub(\"\\s\",\"*\",pattern)\n",
    "print(match)"
   ]
  },
  {
   "cell_type": "code",
   "execution_count": 31,
   "id": "c0ea2001",
   "metadata": {},
   "outputs": [
    {
     "name": "stdout",
     "output_type": "stream",
     "text": [
      "[1 2 3 4 5]\n",
      "<class 'numpy.ndarray'>\n"
     ]
    }
   ],
   "source": [
    "import numpy as np\n",
    "\n",
    "arr=np.array([1,2,3,4,5])\n",
    "print(arr)\n",
    "print(type(arr))"
   ]
  },
  {
   "cell_type": "code",
   "execution_count": 32,
   "id": "414b6baa",
   "metadata": {},
   "outputs": [
    {
     "name": "stdout",
     "output_type": "stream",
     "text": [
      "[[1 2 3]\n",
      " [4 5 6]]\n"
     ]
    }
   ],
   "source": [
    "#multi dimensional array\n",
    "\n",
    "import numpy as np\n",
    "a=np.array([[1,2,3],[4,5,6]])\n",
    "print(a)"
   ]
  },
  {
   "cell_type": "code",
   "execution_count": 33,
   "id": "3f5bb9f8",
   "metadata": {},
   "outputs": [
    {
     "name": "stdout",
     "output_type": "stream",
     "text": [
      "[1 2 3 4 5]\n",
      "<class 'numpy.ndarray'>\n"
     ]
    }
   ],
   "source": [
    "import numpy as np\n",
    "\n",
    "arr=np.array([1,2,3,4,5])\n",
    "print(arr)\n",
    "print(type(arr))"
   ]
  },
  {
   "cell_type": "code",
   "execution_count": 34,
   "id": "ad3a84d8",
   "metadata": {},
   "outputs": [
    {
     "name": "stdout",
     "output_type": "stream",
     "text": [
      "[1.+0.j 2.+0.j 3.+0.j]\n"
     ]
    }
   ],
   "source": [
    "#datatype parameter\n",
    "\n",
    "import numpy as np\n",
    "a=np.array([1,2,3],dtype=complex)\n",
    "print(a)"
   ]
  },
  {
   "cell_type": "code",
   "execution_count": null,
   "id": "5309575b",
   "metadata": {},
   "outputs": [],
   "source": []
  }
 ],
 "metadata": {
  "kernelspec": {
   "display_name": "Python 3 (ipykernel)",
   "language": "python",
   "name": "python3"
  },
  "language_info": {
   "codemirror_mode": {
    "name": "ipython",
    "version": 3
   },
   "file_extension": ".py",
   "mimetype": "text/x-python",
   "name": "python",
   "nbconvert_exporter": "python",
   "pygments_lexer": "ipython3",
   "version": "3.9.12"
  }
 },
 "nbformat": 4,
 "nbformat_minor": 5
}
